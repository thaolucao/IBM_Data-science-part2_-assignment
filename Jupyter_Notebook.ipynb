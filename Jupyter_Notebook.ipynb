{
 "cells": [
  {
   "cell_type": "markdown",
   "metadata": {},
   "source": [
    "<center>\n",
    "    <img src=\"https://s3-api.us-geo.objectstorage.softlayer.net/cf-courses-data/CognitiveClass/Logos/organization_logo/organization_logo.png\" width=\"300\" alt=\"cognitiveclass.ai logo\"  />\n",
    "</center>\n"
   ]
  },
  {
   "cell_type": "markdown",
   "metadata": {},
   "source": [
    "#### Add your code below following the instructions given in the course\n"
   ]
  },
  {
   "cell_type": "markdown",
   "metadata": {},
   "source": [
    "# My Jupyter Notebook on IBM Watson Studio"
   ]
  },
  {
   "cell_type": "markdown",
   "metadata": {},
   "source": [
    "**Lu Cao**  \n",
    "Data analyst"
   ]
  },
  {
   "cell_type": "markdown",
   "metadata": {},
   "source": [
    "_I am interested in data science because I would like to apply data science in my current job and develop my career in the direction of data science_"
   ]
  },
  {
   "cell_type": "markdown",
   "metadata": {},
   "source": [
    "###  Calculation code: 1 + 9"
   ]
  },
  {
   "cell_type": "code",
   "execution_count": 2,
   "metadata": {},
   "outputs": [
    {
     "data": {
      "text/plain": [
       "10"
      ]
     },
     "execution_count": 2,
     "metadata": {},
     "output_type": "execute_result"
    }
   ],
   "source": [
    "1+9"
   ]
  },
  {
   "cell_type": "markdown",
   "metadata": {},
   "source": [
    "- Highlight text with color\n",
    "\n",
    "<font color=red>This line has red color</font> \n",
    "\n",
    "- Blocked quotes\n",
    "\n",
    ">This is for blockquote  \n",
    "    \n",
    "- Code Section\n",
    "    \n",
    "```Python\n",
    "str = \"This is block level code\"\n",
    "print(str)\n",
    "```\n",
    "- horizontal line\n",
    "<hr>\n",
    "- Strikethrough\n",
    "    \n",
    "~~Scratch this~~\n",
    "- Table\n",
    "    \n",
    "|Number|Letter|Number and letter|\n",
    "|------|------|------|\n",
    "|1     |A     |1A     |\n",
    "|2     |B     |2B     |\n",
    "\n",
    "\n",
    "- Hyperlink \n",
    "\n",
    "if you have any questions, [click here](https://google.com)  \n",
    "\n",
    "- Image  \n",
    "**fancy some cat picture?**\n",
    "\n",
    "\n",
    "![][IM01]\n",
    "\n",
    "[IM01]: https://cdn.pixabay.com/photo/2017/11/09/21/41/cat-2934720_960_720.jpg \"Meow\"\n"
   ]
  },
  {
   "cell_type": "code",
   "execution_count": null,
   "metadata": {},
   "outputs": [],
   "source": []
  }
 ],
 "metadata": {
  "kernelspec": {
   "display_name": "Python",
   "language": "python",
   "name": "conda-env-python-py"
  },
  "language_info": {
   "codemirror_mode": {
    "name": "ipython",
    "version": 3
   },
   "file_extension": ".py",
   "mimetype": "text/x-python",
   "name": "python",
   "nbconvert_exporter": "python",
   "pygments_lexer": "ipython3",
   "version": "3.7.12"
  }
 },
 "nbformat": 4,
 "nbformat_minor": 4
}
